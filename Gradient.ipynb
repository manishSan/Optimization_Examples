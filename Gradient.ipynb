{
  "cells": [
    {
      "cell_type": "markdown",
      "metadata": {
        "id": "owQ_FPfHEIOY"
      },
      "source": [
        "# Problem Set 3\n",
        "In this problem set you will get some practice with gradient descent and sub-gradient descent. There is a template for setting up your code and plotting your results at the end of this notebook, which you may find useful. Note that it is only a suggestion -- you are not required to use it."
      ]
    },
    {
      "cell_type": "markdown",
      "metadata": {
        "id": "fY6Ysm1TELWc"
      },
      "source": [
        "## Problem 1: Gradient Descent\n",
        "Consider three quadratics, as given by:\n",
        "$$\n",
        "f_i(x) = \\frac{1}{2} x^{\\top}Q_ix + q_i^{\\top} x + c_i,\n",
        "$$\n",
        "for the three triples $(Q_i,q_i,c_i)$, $i=1,2,3$ given below."
      ]
    },
    {
      "cell_type": "code",
      "execution_count": 6,
      "metadata": {
        "id": "UqMCBxayEMT4"
      },
      "outputs": [],
      "source": [
        "import numpy as np\n",
        "Q1 = np.array([[ 1.17091573, -0.03686123, -0.1001259 ],\n",
        "       [-0.03686123,  1.03835691,  0.17285956],\n",
        "       [-0.1001259 ,  0.17285956,  1.06072736]])\n",
        "Q2 = np.array([[ 15.27095759,  -1.97915834, -14.22190153],\n",
        "       [ -1.97915834,   0.34660759,   1.91586927],\n",
        "       [-14.22190153,   1.91586927,  15.76943482]])\n",
        "Q3 = np.array([[28.59657006,  0.3684004 ,  0.90750259],\n",
        "       [ 0.3684004 , 28.11480924,  0.81866989],\n",
        "       [ 0.90750259,  0.81866989, 28.7886207 ]])\n",
        "q1 = np.array([-4.68686663, -0.89027884, -1.57340281])\n",
        "q2 = np.array([ 6.75973216,  1.23223936, -0.87956749])\n",
        "q3 = np.array([ 0.8684369 , -4.69970837, -1.09690726])\n",
        "c1 = 1.61888566;\n",
        "c2 = -2.66426693;\n",
        "c3 = 0.84184738;"
      ]
    },
    {
      "cell_type": "markdown",
      "metadata": {
        "id": "b4pg_ZIgESeA"
      },
      "source": [
        "### Part (A)\n",
        "Implement gradient descent with a step-size of $0.1$ for all three quadratics, and plot function value versus iteration number. Explain what you see."
      ]
    },
    {
      "attachments": {},
      "cell_type": "markdown",
      "metadata": {},
      "source": [
        "#### Gradient Descent Algorithm\n",
        "\n",
        "$$\n",
        "\\nabla f_i(x) = Q_ix + q_i^{\\top}\n",
        "$$"
      ]
    },
    {
      "cell_type": "code",
      "execution_count": 7,
      "metadata": {
        "id": "yT4geTujD4s9"
      },
      "outputs": [],
      "source": [
        "from __future__ import division\n",
        "import numpy as np\n",
        "import numpy.random as rn\n",
        "import numpy.linalg as la\n",
        "import matplotlib.pyplot as plt\n",
        "import time\n",
        "\n",
        "# ∇𝑓𝑖(𝑥)=𝑄𝑖𝑥+𝑞⊤𝑖\n",
        "\n",
        "def gradient(x, Q, q):\n",
        "    return np.dot(Q, x) + q\n",
        "    # return Q @ x + q\n",
        "    \n",
        "# def gradient_descent_step()\n",
        "    \n",
        "def gradient_descent(x_0, learning_rate, precision, Q_1, q_1, c_1):\n",
        "    iteration_count = 0\n",
        "    prev_x = np.zeros((3,1))\n",
        "    current_change = float('inf')\n",
        "    x = x_0\n",
        "\n",
        "    value_by_iteration = [x]\n",
        "\n",
        "    while current_change > precision:\n",
        "        # calculate gradient\n",
        "        grad = gradient(x, Q_1, q_1)\n",
        "        # test if gradient is in the valid range\n",
        "        if np.isposinf(abs(grad.flat[np.abs(grad).argmax()])):\n",
        "            break\n",
        "        \n",
        "        # descend\n",
        "        prev_x = x\n",
        "        x = x - learning_rate * grad\n",
        "        # set variables\n",
        "        iteration_count += 1\n",
        "        move = prev_x - x\n",
        "        current_change = abs(move.flat[np.abs(move).argmax()])\n",
        "        value_by_iteration += [x]\n",
        "        \n",
        "        # print(f'value of x: {x}, at iteration: {iteration_count}, change: {current_change}')\n",
        "        # print(f'value of grad: {grad}, at iteration: {iteration_count}, change: {current_change}')\n",
        "    return value_by_iteration"
      ]
    },
    {
      "cell_type": "code",
      "execution_count": 8,
      "metadata": {},
      "outputs": [],
      "source": [
        "def compute_function(x, Q, q, c):\n",
        "    return (np.transpose(x) @ Q @ x + np.transpose(q) @ x + c) / 2\n",
        "\n",
        "def compute_function_for_all_iterations(val_by_iteration, Q, q, c):\n",
        "    return [compute_function(x, Q, q, c) for x in val_by_iteration]"
      ]
    },
    {
      "attachments": {},
      "cell_type": "markdown",
      "metadata": {},
      "source": [
        "#### Solution Part (A)"
      ]
    },
    {
      "cell_type": "code",
      "execution_count": 9,
      "metadata": {},
      "outputs": [
        {
          "name": "stderr",
          "output_type": "stream",
          "text": [
            "/var/folders/3b/3dq2h18x1cg80hp0x0z2_nnm0000gn/T/ipykernel_88282/4175059009.py:2: RuntimeWarning: overflow encountered in matmul\n",
            "  return (np.transpose(x) @ Q @ x + np.transpose(q) @ x + c) / 2\n"
          ]
        },
        {
          "data": {
            "image/png": "[encoded data removed]",
            "text/plain": [
              "<Figure size 640x480 with 3 Axes>"
            ]
          },
          "metadata": {},
          "output_type": "display_data"
        }
      ],
      "source": [
        "# x_0 = np.zeros(Q1.shape[1])\n",
        "x_0 = np.random.random(Q1.shape[1])\n",
        "# print(x_0)\n",
        "learning_rate = 0.1\n",
        "precision = 0.01\n",
        "g_d_eq1 = gradient_descent(x_0, learning_rate, precision, Q1, q1, c1)\n",
        "g_d_eq2 = gradient_descent(x_0, learning_rate, precision, Q2, q2, c2)\n",
        "g_d_eq3 = gradient_descent(x_0, learning_rate, precision, Q3, q3, c3)\n",
        "\n",
        "f1 = compute_function_for_all_iterations(g_d_eq1, Q1, q1, c1)\n",
        "f2 = compute_function_for_all_iterations(g_d_eq2, Q2, q2, c2)\n",
        "f3 = compute_function_for_all_iterations(g_d_eq3, Q3, q3, c3)\n",
        "\n",
        "fig, (ax1, ax2, ax3) = plt.subplots(nrows=3, ncols=1)\n",
        "\n",
        "ax1.margins(x=0.05, y=0.25)\n",
        "ax1.plot(range(0, len(f1)), f1)\n",
        "ax1.set_title(\"Equation 1\")\n",
        "\n",
        "ax2.margins(x=0.05, y=0.25)\n",
        "ax2.plot(range(0, len(f2)), f2)\n",
        "ax2.set_title(\"Equation 2\")\n",
        "\n",
        "ax3.margins(x=0.05, y=0.25)\n",
        "ax3.plot(range(0, len(f3)), f3)\n",
        "ax3.set_title(\"Equation 3\")\n",
        "\n",
        "fig.tight_layout()\n",
        "\n",
        "plt.show()"
      ]
    },
    {
      "attachments": {},
      "cell_type": "markdown",
      "metadata": {},
      "source": [
        "#### Explanation Part (A)\n",
        "\n"
      ]
    },
    {
      "cell_type": "markdown",
      "metadata": {
        "id": "6oNV2Pp-EWKH"
      },
      "source": [
        "### Part (B)\n",
        "Find a step-size for each quadratic (it can be different for each), and implement gradient descent with this stepsize. Plot function value versus iteration number. Try to pick a step size that gives you fast convergence. How did you pick it?"
      ]
    },
    {
      "cell_type": "code",
      "execution_count": 11,
      "metadata": {},
      "outputs": [
        {
          "data": {
            "image/png": "[encoded data removed]",
            "text/plain": [
              "<Figure size 640x480 with 3 Axes>"
            ]
          },
          "metadata": {},
          "output_type": "display_data"
        }
      ],
      "source": [
        "# x_0 = np.zeros(Q1.shape[1])\n",
        "x_0 = np.random.random(Q1.shape[1])\n",
        "# print(x_0)\n",
        "learning_rate_1 = 0.1\n",
        "learning_rate_2 = 0.025\n",
        "learning_rate_3 = 0.001\n",
        "precision = 0.01\n",
        "g_d_eq1 = gradient_descent(x_0, learning_rate_1, precision, Q1, q1, c1)\n",
        "g_d_eq2 = gradient_descent(x_0, learning_rate_2, precision, Q2, q2, c2)\n",
        "g_d_eq3 = gradient_descent(x_0, learning_rate_3, precision, Q3, q3, c3)\n",
        "\n",
        "f1 = compute_function_for_all_iterations(g_d_eq1, Q1, q1, c1)\n",
        "f2 = compute_function_for_all_iterations(g_d_eq2, Q2, q2, c2)\n",
        "f3 = compute_function_for_all_iterations(g_d_eq3, Q3, q3, c3)\n",
        "\n",
        "fig, (ax1, ax2, ax3) = plt.subplots(nrows=3, ncols=1)\n",
        "\n",
        "ax1.margins(x=0.05, y=0.25)\n",
        "ax1.plot(range(0, len(f1)), f1)\n",
        "ax1.set_title(\"Equation 1\")\n",
        "\n",
        "ax2.margins(x=0.05, y=0.25)\n",
        "ax2.plot(range(0, len(f2)), f2)\n",
        "ax2.set_title(\"Equation 2\")\n",
        "\n",
        "ax3.margins(x=0.05, y=0.25)\n",
        "ax3.plot(range(0, len(f3)), f3)\n",
        "ax3.set_title(\"Equation 3\")\n",
        "\n",
        "fig.tight_layout()\n",
        "\n",
        "plt.show()"
      ]
    },
    {
      "cell_type": "markdown",
      "metadata": {
        "id": "rXGLnr8zEYKu"
      },
      "source": [
        "### Part (C)\n",
        "Even with your carefully tuned choice of step size, you will see that the rates of convergence are not the same, Explain why this is the case."
      ]
    },
    {
      "cell_type": "markdown",
      "metadata": {
        "id": "m1iEjab2EclQ"
      },
      "source": [
        "### Part (D) -- Optional -- \n",
        "Read about back tracking line search (BTLS) and implement it here. "
      ]
    },
    {
      "cell_type": "markdown",
      "metadata": {
        "id": "Nh1qRKIlElT_"
      },
      "source": [
        "## Problem 2: Sub-gradient Method\n",
        "Consider a least squares problem with $\\ell^1$ regularization:\n",
        "$$\n",
        "\\min_x \\left[f(x) = \\frac{1}{2}\\|{Ax-b}\\|_2^2 + \\lambda \\|{x}\\|_1 \\right]\n",
        "$$\n",
        "\n",
        "This problem is often called LASSO (least absolute shrinkage and selection operator) and is known to induce {\\em sparse} solutions with few nonzero elements in $x$, which can have advantages in terms of computation and interpretability. This problem is nonsmooth due to the regularization term. It is also not strongly convex when $A$ has more columns than rows. We (i.e., you) will solve this problem using several different algorithms in this class. We start with what we have seen thus far: the subgradient method. \n",
        "\n",
        "The dataset represented in the matrices provided in the numpy binary files A.npy and b.npy are from a diabetes dataset (scikit-learn.org/stable/modules/generated/sklearn.datasets.load_diabetes.html) with 10 features that has been corrupted with an additional 90 noisy features. Thus a sparse solution should be very effective. Below you will find some skeleton code to help with loading the data, running the algorithm and plotting the results. Don't use stock optimization code, you should develop the core part of this assignment yourself."
      ]
    },
    {
      "cell_type": "markdown",
      "metadata": {
        "id": "vlwKNrNcEp7F"
      },
      "source": [
        "Minimize $f(x)$ using $10^4$ iterations of the subgradient method starting with $t=0$ and $x_0 =0$. \n",
        "\n",
        "### Part (A)\n",
        "Use a decreasing step size of $\\eta_t = c/t$ with values for $c$ that (roughly) optimize the empirical performance. Separately record the (unsquared) error $\\|Ax_t-b\\|$ and the regularization term $\\|x\\|_1$.\n",
        "\n",
        "### Part (B) \n",
        "Now use a more slowly decreasing step size of $\\eta_t = c/\\sqrt{t+1}$ with values for $c$ that (roughly) optimize the empirical performance. Separately record the (unsquared) error $\\|Ax_t-b\\|$ and the regularization term $\\|x\\|_1$.\n",
        "\n",
        "### Part (C)\n",
        "Now try to find the best fixed step size. Plot the results and compare to the decreasing step size you see above. \n",
        "\n",
        "### Part (D) -- Optional --\n",
        "If you did the BTLS optional part above, either implement BTLS for subgradient method, or explain why the challenges are with this. \n"
      ]
    },
    {
      "cell_type": "markdown",
      "metadata": {
        "id": "lgEPG09USxT8"
      },
      "source": [
        "Here is a template that may be useful. Note that it is designed for the LASSO problem, so you will have to modify it to use it for the quadratic problems at the beginning, but the ideas are the same."
      ]
    },
    {
      "cell_type": "code",
      "execution_count": 10,
      "metadata": {
        "id": "vU1ReScpEqks"
      },
      "outputs": [
        {
          "ename": "FileNotFoundError",
          "evalue": "[Errno 2] No such file or directory: 'A.npy'",
          "output_type": "error",
          "traceback": [
            "\u001b[0;31m---------------------------------------------------------------------------\u001b[0m",
            "\u001b[0;31mFileNotFoundError\u001b[0m                         Traceback (most recent call last)",
            "Cell \u001b[0;32mIn[10], line 52\u001b[0m\n\u001b[1;32m     48\u001b[0m     plt\u001b[39m.\u001b[39msavefig(\u001b[39m'\u001b[39m\u001b[39ml1.eps\u001b[39m\u001b[39m'\u001b[39m)\n\u001b[1;32m     51\u001b[0m \u001b[39mif\u001b[39;00m \u001b[39m__name__\u001b[39m \u001b[39m==\u001b[39m \u001b[39m\"\u001b[39m\u001b[39m__main__\u001b[39m\u001b[39m\"\u001b[39m:\n\u001b[0;32m---> 52\u001b[0m     main()\n",
            "Cell \u001b[0;32mIn[10], line 32\u001b[0m, in \u001b[0;36mmain\u001b[0;34m(T)\u001b[0m\n\u001b[1;32m     31\u001b[0m \u001b[39mdef\u001b[39;00m \u001b[39mmain\u001b[39m(T\u001b[39m=\u001b[39m\u001b[39mint\u001b[39m(\u001b[39m1e3\u001b[39m)):\n\u001b[0;32m---> 32\u001b[0m     A \u001b[39m=\u001b[39m np\u001b[39m.\u001b[39;49mload(\u001b[39m\"\u001b[39;49m\u001b[39mA.npy\u001b[39;49m\u001b[39m\"\u001b[39;49m)\n\u001b[1;32m     33\u001b[0m     b \u001b[39m=\u001b[39m np\u001b[39m.\u001b[39mload(\u001b[39m\"\u001b[39m\u001b[39mb.npy\u001b[39m\u001b[39m\"\u001b[39m)\n\u001b[1;32m     35\u001b[0m     \u001b[39m# modify regularization parameters below\u001b[39;00m\n",
            "File \u001b[0;32m~/opt/anaconda3/envs/pytorch/lib/python3.10/site-packages/numpy/lib/npyio.py:390\u001b[0m, in \u001b[0;36mload\u001b[0;34m(file, mmap_mode, allow_pickle, fix_imports, encoding)\u001b[0m\n\u001b[1;32m    388\u001b[0m     own_fid \u001b[39m=\u001b[39m \u001b[39mFalse\u001b[39;00m\n\u001b[1;32m    389\u001b[0m \u001b[39melse\u001b[39;00m:\n\u001b[0;32m--> 390\u001b[0m     fid \u001b[39m=\u001b[39m stack\u001b[39m.\u001b[39menter_context(\u001b[39mopen\u001b[39;49m(os_fspath(file), \u001b[39m\"\u001b[39;49m\u001b[39mrb\u001b[39;49m\u001b[39m\"\u001b[39;49m))\n\u001b[1;32m    391\u001b[0m     own_fid \u001b[39m=\u001b[39m \u001b[39mTrue\u001b[39;00m\n\u001b[1;32m    393\u001b[0m \u001b[39m# Code to distinguish from NumPy binary files and pickles.\u001b[39;00m\n",
            "\u001b[0;31mFileNotFoundError\u001b[0m: [Errno 2] No such file or directory: 'A.npy'"
          ]
        }
      ],
      "source": [
        "from __future__ import division\n",
        "import numpy as np\n",
        "import numpy.random as rn\n",
        "import numpy.linalg as la\n",
        "import matplotlib.pyplot as plt\n",
        "import time\n",
        "\n",
        "\n",
        "def subgradient(x, A, b, t, lam, c=1e-5):\n",
        "    # update x (your code here), set c above\n",
        "    return x\n",
        "\n",
        "def descent(update, A, b, reg, T=int(1e4)):\n",
        "    x = np.zeros(A.shape[1])\n",
        "    error = []\n",
        "    l1 = []\n",
        "    for t in range(T):\n",
        "        # update A (here subgradient, but you can re-use when we develop other algorithms)\n",
        "        x = update(x, A, b, t, reg)\n",
        "        \n",
        "        # record error and l1 norm\n",
        "        if (t % 1 == 0) or (t == T - 1):\n",
        "            error.append(la.norm(np.dot(A, x) - b))\n",
        "            l1.append(np.sum(abs(x)))\n",
        "\n",
        "            assert not np.isnan(error[-1])\n",
        "\n",
        "    return x, error, l1\n",
        "\n",
        "\n",
        "def main(T=int(1e3)):\n",
        "    A = np.load(\"A.npy\")\n",
        "    b = np.load(\"b.npy\")\n",
        "\n",
        "    # modify regularization parameters below\n",
        "    x_sg, error_sg, l1_sg = descent(subgradient, A, b, reg=0., T=T)\n",
        "\n",
        "    plt.clf()\n",
        "    plt.plot(error_sg, label='Subgradient')\n",
        "    plt.title('Error')\n",
        "    plt.legend()\n",
        "    plt.savefig('error.eps')\n",
        "\n",
        "    plt.clf()\n",
        "    plt.plot(l1_sg, label='Subgradient')\n",
        "    plt.title(\"$\\ell^1$ Norm\")\n",
        "    plt.legend()\n",
        "    plt.savefig('l1.eps')\n",
        "\n",
        "\n",
        "if __name__ == \"__main__\":\n",
        "    main()"
      ]
    }
  ],
  "metadata": {
    "colab": {
      "provenance": []
    },
    "kernelspec": {
      "display_name": "pytorch",
      "language": "python",
      "name": "python3"
    },
    "language_info": {
      "codemirror_mode": {
        "name": "ipython",
        "version": 3
      },
      "file_extension": ".py",
      "mimetype": "text/x-python",
      "name": "python",
      "nbconvert_exporter": "python",
      "pygments_lexer": "ipython3",
      "version": "3.10.8"
    },
    "vscode": {
      "interpreter": {
        "hash": "a1e6277ece329b7d2e420d64cdef17db01f48a331c92ae82a2f682e11f2ce7f2"
      }
    }
  },
  "nbformat": 4,
  "nbformat_minor": 0
}
